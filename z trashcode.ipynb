{
 "cells": [
  {
   "cell_type": "markdown",
   "metadata": {},
   "source": [
    "## trash code - that works"
   ]
  },
  {
   "cell_type": "code",
   "execution_count": 1,
   "metadata": {},
   "outputs": [],
   "source": [
    "def winner_yet(TTT):\n",
    "\n",
    "    # convert tic-tac-toe numbers into \"X\" (1) and \"O\" (-1)\n",
    "    impar = [1, 3, 5, 7, 9]\n",
    "    mask = np.isin(TTT, impar)\n",
    "    TTT[mask], TTT[~mask] = 1, -1\n",
    "    \n",
    "    # check for win (which implies line sum to be (1)*3 or (-1)*3)\n",
    "    row_sums = np.sum(TTT, axis=1)\n",
    "    column_sums = np.sum(TTT, axis=0)\n",
    "    main_diagonal_sum = np.trace(TTT)\n",
    "    anti_diagonal_sum = np.trace(np.fliplr(TTT))\n",
    "    all_sums = np.concatenate((row_sums, column_sums, [main_diagonal_sum, anti_diagonal_sum]))\n",
    "\n",
    "    if 3 not in abs(all_sums):\n",
    "        return False\n",
    "    elif 3 in all_sums:\n",
    "        return 1\n",
    "    elif -3 in all_sums:\n",
    "        return -1"
   ]
  }
 ],
 "metadata": {
  "kernelspec": {
   "display_name": "Python 3",
   "language": "python",
   "name": "python3"
  },
  "language_info": {
   "codemirror_mode": {
    "name": "ipython",
    "version": 3
   },
   "file_extension": ".py",
   "mimetype": "text/x-python",
   "name": "python",
   "nbconvert_exporter": "python",
   "pygments_lexer": "ipython3",
   "version": "3.11.6"
  }
 },
 "nbformat": 4,
 "nbformat_minor": 2
}
