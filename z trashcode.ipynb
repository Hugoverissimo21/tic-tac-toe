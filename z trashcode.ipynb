{
 "cells": [
  {
   "cell_type": "markdown",
   "metadata": {},
   "source": [
    "## trash code - that works"
   ]
  },
  {
   "cell_type": "code",
   "execution_count": 1,
   "metadata": {},
   "outputs": [],
   "source": [
    "def winner_yet(TTT):\n",
    "\n",
    "    # convert tic-tac-toe numbers into \"X\" (1) and \"O\" (-1)\n",
    "    impar = [1, 3, 5, 7, 9]\n",
    "    mask = np.isin(TTT, impar)\n",
    "    TTT[mask], TTT[~mask] = 1, -1\n",
    "    \n",
    "    # check for win (which implies line sum to be (1)*3 or (-1)*3)\n",
    "    row_sums = np.sum(TTT, axis=1)\n",
    "    column_sums = np.sum(TTT, axis=0)\n",
    "    main_diagonal_sum = np.trace(TTT)\n",
    "    anti_diagonal_sum = np.trace(np.fliplr(TTT))\n",
    "    all_sums = np.concatenate((row_sums, column_sums, [main_diagonal_sum, anti_diagonal_sum]))\n",
    "\n",
    "    if 3 not in abs(all_sums):\n",
    "        return False\n",
    "    elif 3 in all_sums:\n",
    "        return 1\n",
    "    elif -3 in all_sums:\n",
    "        return -1"
   ]
  },
  {
   "cell_type": "code",
   "execution_count": 2,
   "metadata": {},
   "outputs": [
    {
     "data": {
      "text/plain": [
       "(255168,\n",
       " 83196,\n",
       " 42600,\n",
       " 33564,\n",
       " 31896,\n",
       "         0  1  2  3  4  5  6  7  8\n",
       " 2305    0  1  0  0  3  0  4  5  2\n",
       " 2306    0  1  0  0  3  2  0  5  4\n",
       " 2307    0  1  0  0  3  2  4  5  0\n",
       " 2308    0  1  0  0  3  4  0  5  2\n",
       " 2313    0  1  0  0  3  5  4  6  2\n",
       " ...    .. .. .. .. .. .. .. .. ..\n",
       " 243037  9  2  8  7  1  4  5  6  3\n",
       " 243038  9  2  8  7  1  4  6  3  5\n",
       " 243039  9  2  8  7  1  4  6  5  3\n",
       " 243042  9  2  8  7  1  6  4  5  3\n",
       " 243043  9  2  8  7  1  6  5  4  3\n",
       " \n",
       " [31896 rows x 9 columns])"
      ]
     },
     "execution_count": 2,
     "metadata": {},
     "output_type": "execute_result"
    }
   ],
   "source": [
    "import pandas as pd\n",
    "\n",
    "true_games = pd.read_csv(\"attachment(2)_truetictactoe.csv\", header = None)\n",
    "#true_games\n",
    "\n",
    "# there is 3squares where we can first_move (square 0 1 4)\n",
    "true_move1 = true_games[(true_games[[0, 1, 4]] == 1).any(axis=1)]\n",
    "#true_move1\n",
    "\n",
    "\n",
    "# eixos de simetria e ns q para o move 2\n",
    "# se 1 in square0: 2 pode [1 2 4 5 8]\n",
    "m1s0 = (true_move1[0] == 1) & (true_move1[[1, 2, 4, 5, 8]] == 2).any(axis=1)\n",
    "# se 1 in square1: 2 pode [2 4 5 7 8]\n",
    "m1s1 = (true_move1[1] == 1) & (true_move1[[2, 4, 5, 7, 8]] == 2).any(axis=1)\n",
    "# se 1 in square4: 2 pode [0 1]\n",
    "m1s4 = (true_move1[4] == 1) & (true_move1[[0, 1]] == 2).any(axis=1)\n",
    "#\n",
    "true_move2 = true_move1[m1s0 | m1s1 | m1s4]\n",
    "#true_move2\n",
    "\n",
    "#move 3 - eixos de simetria\n",
    "# as unicas jogadas q mantem a simetria sao aquelas q sao\n",
    "# jogadas nos eixos de simetria que sao o vertical e diagonal princiapal\n",
    "# que tipo a segunda jogada mantem a linha que une a m1 e m2 nos eixos\n",
    "# ou seja 04 08 , 14 17 , 40 41\n",
    "# e entao a jogada m3 pode ser a direita do eixo vertical ou cima diag prin\n",
    "# consoante o caso\n",
    "# depois faltam as outras q como nao fazem simetria nao podem ser simplificadas\n",
    "# entao o mais facil e ver as q nao estao simplificadas e remove las, dai usar o ~\n",
    "# organizando:\n",
    "#\n",
    "# 04 - 1258\n",
    "# 40 - 1258\n",
    "s04 = (true_move2[[0, 4]] == 1).any(axis=1) & (true_move2[[0, 4]] == 2).any(axis=1) & ~(true_move2[[1, 2, 5, 8]] == 3).any(axis=1)\n",
    "# 14 - 2578\n",
    "# 41 - 2578\n",
    "s14 = (true_move2[[1, 4]] == 1).any(axis=1) & (true_move2[[1, 4]] == 2).any(axis=1) & ~(true_move2[[2, 5, 7, 8]] == 3).any(axis=1)\n",
    "# 17 - 2458\n",
    "s17 = (true_move2[1] == 1) & (true_move2[7] == 2) & ~(true_move2[[2, 4, 5, 8]] == 3).any(axis=1)\n",
    "# 08 - 1245\n",
    "s08 = (true_move2[0] == 1) & (true_move2[8] == 2) & ~(true_move2[[1, 2, 4, 5]] == 3).any(axis=1)\n",
    "#\n",
    "# os s(m1)(m2) tem True para todos menos os q n respeitam no caso em espefico, por isos e q se usa o & (and) e nao o | (or)\n",
    "true_move3 = true_move2[~s04 & ~s14 & ~s17 & ~s08]\n",
    "#true_move3\n",
    "\n",
    "#move 4 - so falta esgotar o eixo vertical e diagonal de simetria tp\n",
    "# e dps claro manter os outros\n",
    "# usando as ideias anteriores:\n",
    "# 048 084 408 - 125\n",
    "s048 = (true_move3[[0, 4]] == 1).any(axis=1) & (true_move3[[0, 4, 8]] == 2).any(axis=1) & (true_move3[[4, 8]] == 3).any(axis=1) & ~(true_move3[[1, 2, 5]] == 4).any(axis=1)\n",
    "# 147 174 417 - 258\n",
    "s147 = (true_move3[[1, 4]] == 1).any(axis=1) & (true_move3[[1, 4, 7]] == 2).any(axis=1) & (true_move3[[4, 7]] == 3).any(axis=1) & ~(true_move3[[2, 5, 8]] == 4).any(axis=1)\n",
    "#\n",
    "true_move4 = true_move3[~s048 & ~s147]\n",
    "#true_move4\n",
    "\n",
    "len(true_games), len(true_move1), len(true_move2), len(true_move3), len(true_move4), true_move4"
   ]
  }
 ],
 "metadata": {
  "kernelspec": {
   "display_name": "Python 3",
   "language": "python",
   "name": "python3"
  },
  "language_info": {
   "codemirror_mode": {
    "name": "ipython",
    "version": 3
   },
   "file_extension": ".py",
   "mimetype": "text/x-python",
   "name": "python",
   "nbconvert_exporter": "python",
   "pygments_lexer": "ipython3",
   "version": "3.11.6"
  }
 },
 "nbformat": 4,
 "nbformat_minor": 2
}
