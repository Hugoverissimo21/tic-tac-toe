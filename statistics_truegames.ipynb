{
 "cells": [
  {
   "cell_type": "code",
   "execution_count": 4,
   "metadata": {},
   "outputs": [],
   "source": [
    "import pandas as pd\n",
    "import seaborn as sns\n",
    "import matplotlib.pyplot as plt"
   ]
  },
  {
   "cell_type": "code",
   "execution_count": 5,
   "metadata": {},
   "outputs": [],
   "source": [
    "true_games = pd.read_csv(\"attachment(2)_truetictactoe.csv\", names = (list(range(9))) + [\"winner\"])"
   ]
  },
  {
   "cell_type": "code",
   "execution_count": 18,
   "metadata": {},
   "outputs": [],
   "source": [
    "def first_moves_statistics(_withd, _height):\n",
    "    # create DF: ex.: row[1] = qty of games that start at sqr1, qty of wins1, wins2 and draws\n",
    "    first_moves = (true_games == 1).sum().to_frame()[:-1]\n",
    "    winner1 = []\n",
    "    winner2 = []\n",
    "    for i in range(9):\n",
    "        winner1.append(len(true_games[(true_games[i] == 1) & (true_games[\"winner\"] == 1)]))\n",
    "        winner2.append(len(true_games[(true_games[i] == 1) & (true_games[\"winner\"] == 2)]))\n",
    "    first_moves[\"winner1\"] = winner1\n",
    "    first_moves[\"winner2\"] = winner2\n",
    "    first_moves[\"draw\"] = first_moves[0] - (first_moves[\"winner1\"] + first_moves[\"winner2\"])\n",
    "\n",
    "\n",
    "    # set figure to draw bar plots\n",
    "    plt.figure(figsize=(_withd, _height))\n",
    "    sns.set(style=\"whitegrid\")\n",
    "\n",
    "    # set barplots for each situaion: winner1, winner2, draw but group them by square of 1st move\n",
    "    bar_plot = sns.barplot(x=first_moves.index, y='winner1', data=first_moves,\n",
    "                        color='blue', label='Player1 wins', alpha=0.85)\n",
    "    sns.barplot(x=first_moves.index, y='winner2', data=first_moves,\n",
    "                        color='red', label='Player2 wins', alpha=0.85,\n",
    "                        bottom=first_moves['winner1'])\n",
    "    sns.barplot(x=first_moves.index, y='draw', data=first_moves,\n",
    "                        color='green', label='Draw', alpha=0.85,\n",
    "                        bottom=first_moves['winner1'] + first_moves['winner2'])\n",
    "\n",
    "    # add percentage to each barplot of wins1, wins2, draw\n",
    "    for p in bar_plot.patches:\n",
    "        width, height = p.get_width(), p.get_height()\n",
    "        x, y = p.get_xy()\n",
    "        percentage = height / sum(first_moves[['winner1', 'winner2', 'draw']].iloc[int(p.get_x())].values) * 100\n",
    "        bar_plot.annotate(f'{percentage:.2f}%',\n",
    "                        (x + width / 2., y + height / 2.),\n",
    "                        ha='center', va='center', color='white',\n",
    "                        xytext=(0, 0),\n",
    "                        textcoords='offset points')\n",
    "\n",
    "    # set labels, legend and show it\n",
    "    plt.xlabel('Square of first move')\n",
    "    plt.ylabel('Qty of games')\n",
    "    plt.title('First Moves Statistics')\n",
    "    plt.legend(loc='upper left', bbox_to_anchor=(1.005, 0.995), borderaxespad=0.)\n",
    "    plt.show()"
   ]
  },
  {
   "cell_type": "code",
   "execution_count": null,
   "metadata": {},
   "outputs": [],
   "source": []
  }
 ],
 "metadata": {
  "kernelspec": {
   "display_name": "Python 3",
   "language": "python",
   "name": "python3"
  },
  "language_info": {
   "codemirror_mode": {
    "name": "ipython",
    "version": 3
   },
   "file_extension": ".py",
   "mimetype": "text/x-python",
   "name": "python",
   "nbconvert_exporter": "python",
   "pygments_lexer": "ipython3",
   "version": "3.11.6"
  }
 },
 "nbformat": 4,
 "nbformat_minor": 2
}
