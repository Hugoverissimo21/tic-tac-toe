{
 "cells": [
  {
   "cell_type": "markdown",
   "metadata": {},
   "source": [
    "## all games into a csv"
   ]
  },
  {
   "cell_type": "code",
   "execution_count": 6,
   "metadata": {},
   "outputs": [],
   "source": [
    "import numpy as np"
   ]
  },
  {
   "cell_type": "code",
   "execution_count": 7,
   "metadata": {},
   "outputs": [],
   "source": [
    "def winner_yet(TTT):\n",
    "\n",
    "    # convert tic-tac-toe numbers into \"X\" (1) and \"O\" (-1)\n",
    "    impar = [1, 3, 5, 7, 9]\n",
    "    mask = np.isin(TTT, impar)\n",
    "    TTT[mask], TTT[~mask] = 1, -1\n",
    "    \n",
    "    # check for win (which implies line sum to be (1)*3 or (-1)*3)\n",
    "    row_sums = np.sum(TTT, axis=1)\n",
    "    column_sums = np.sum(TTT, axis=0)\n",
    "    main_diagonal_sum = np.trace(TTT)\n",
    "    anti_diagonal_sum = np.trace(np.fliplr(TTT))\n",
    "    all_sums = np.concatenate((row_sums, column_sums, [main_diagonal_sum, anti_diagonal_sum]))\n",
    "\n",
    "    if 3 not in abs(all_sums):\n",
    "        return False\n",
    "    elif 3 in all_sums:\n",
    "        return 1\n",
    "    elif -3 in all_sums:\n",
    "        return -1"
   ]
  },
  {
   "cell_type": "code",
   "execution_count": 8,
   "metadata": {},
   "outputs": [],
   "source": [
    "def ALL_tic_tac_toe():\n",
    "    \"\"\"\n",
    "    generate all tic-tac-toe games but,\n",
    "        doesn't care who starts (X or O)\n",
    "        doesn't care if theres a win, just fills all the nine squares\n",
    "        impar numbers stand for the starter moves (X or O) and par numbers stand for the other player\n",
    "        it's justs all the 9! games\n",
    "    \"\"\"\n",
    "    move = 0\n",
    "    ith_move = np.array([[0,0,0 , 0,0,0 , 0,0,0], [0,0,0 , 0,0,0 , 0,0,0]])\n",
    "    \n",
    "    move = 1\n",
    "    while move < 9:\n",
    "        all_games = np.array([0,0,0 , 0,0,0 , 0,0,0])\n",
    "        list_all_games = [all_games]\n",
    "        for j in range(1, len(ith_move)):\n",
    "            for i in range(9):  #instead of range(9), range(count(0)) and replace using index of find ? compare times\n",
    "                if ith_move[j][i] != 0:\n",
    "                    pass\n",
    "                else:\n",
    "                    ith_move[j][i] = move\n",
    "                    list_all_games.append(ith_move[j].copy())\n",
    "                    ith_move[j][i] = 0\n",
    "        ith_move = np.vstack(list_all_games)\n",
    "        #print(\"Move \" + str(move) + \" - OK\")\n",
    "        move += 1    \n",
    "\n",
    "    move = 9\n",
    "    last_move = np.where(ith_move[1:] == 0, 9, ith_move[1:])\n",
    "    #print(\"Move \" + str(move) + \" - OK\")\n",
    "\n",
    "    np.savetxt(\"attachment(1)_alltictactoe.csv\", last_move, delimiter=\",\", fmt=\"%d\")\n",
    "\n",
    "    return \"File saved.\", len(last_move)"
   ]
  },
  {
   "cell_type": "code",
   "execution_count": 9,
   "metadata": {},
   "outputs": [],
   "source": [
    "# save them to csv file\n",
    "# use sql to manipulate them: first use python to reduce list for games with wins using pandas and stuff"
   ]
  },
  {
   "cell_type": "code",
   "execution_count": 10,
   "metadata": {},
   "outputs": [
    {
     "data": {
      "text/plain": [
       "('File saved.', 362880)"
      ]
     },
     "execution_count": 10,
     "metadata": {},
     "output_type": "execute_result"
    }
   ],
   "source": [
    "TTT1 = np.array([[2, 3, 5],[7, 1, 8],[6, 4, 9]])\n",
    "TTT2 = np.array([[1, 3, 5],[2, 3, np.nan],[np.nan, np.nan, np.nan]])\n",
    "\n",
    "np.set_printoptions(threshold=np.inf)\n",
    "ALL_tic_tac_toe()"
   ]
  },
  {
   "cell_type": "code",
   "execution_count": null,
   "metadata": {},
   "outputs": [],
   "source": []
  }
 ],
 "metadata": {
  "kernelspec": {
   "display_name": "Python 3",
   "language": "python",
   "name": "python3"
  },
  "language_info": {
   "codemirror_mode": {
    "name": "ipython",
    "version": 3
   },
   "file_extension": ".py",
   "mimetype": "text/x-python",
   "name": "python",
   "nbconvert_exporter": "python",
   "pygments_lexer": "ipython3",
   "version": "3.11.6"
  }
 },
 "nbformat": 4,
 "nbformat_minor": 2
}
