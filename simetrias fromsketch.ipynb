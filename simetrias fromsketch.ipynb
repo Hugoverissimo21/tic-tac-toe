{
 "cells": [
  {
   "cell_type": "markdown",
   "metadata": {},
   "source": [
    "## remover jogos duplicados"
   ]
  },
  {
   "cell_type": "markdown",
   "metadata": {},
   "source": [
    "simplificar coisa dos move\n",
    "\n",
    "fazer estatisticas de quantos começam em cada sitio ? idk, tenho coisas q posso ler, o da wikipedia é bastante bom\n",
    "\n",
    "talvez tentar fazer pelas simetrias e isso tipo gerar os jogos todos do zero ao inves de ir subtraindo dos possiveis\n",
    "\n",
    "fazer rascunho do README\n",
    "\n",
    "ttt how many final games using only X and O\n",
    "\n",
    "ttt grafico tp inicitial move e dps sobe ou desce consoante jogada e dps diz se % win sobe ou desce, tem de ser tp 3d ig com cor tp\n",
    "\n",
    "ttt loop para os m0s1 m40 … e tp m = … for bla bla m = m & bla\n",
    "\n",
    "ttt automatico tp fszer simetria_vertical = … == … e dps se true ent meter quais é q exclui e dps de ver cada simetria q exclui ver quais sobram para jogar"
   ]
  },
  {
   "cell_type": "code",
   "execution_count": 3,
   "metadata": {},
   "outputs": [],
   "source": [
    "# http://www.se16.info/hgb/tictactoe.htm\n",
    "# https://web.archive.org/web/20130628112339/http://www.mathrec.org/old/2002jan/solutions.html\n",
    "#   Schaefer, Steve (2002). \"MathRec Solutions (Tic-Tac-Toe)\". Mathematical Recreations. Archived from the original on 28 June 2013. Retrieved 18 September 2015.\n",
    "#len(true_games), len(true_move1), len(true_move2), len(true_move3), len(true_move4)\n",
    "#(255168, 83196, 42600, 33564, 31896)\n",
    "\n",
    "# https://colab.research.google.com/drive/15RMqRAG-0ASZYvZYkpNUm808VkCPtGdb?usp=sharing\n",
    "# checks how many games are but freeze: like\n",
    "# only X and O, like in the 9th move will check only how can place X and O not the order to get there\n",
    "# they are 764 + 1 (empty board)"
   ]
  },
  {
   "cell_type": "code",
   "execution_count": 29,
   "metadata": {},
   "outputs": [
    {
     "name": "stdout",
     "output_type": "stream",
     "text": [
      "[0, 1, 2, 3, 4, 5] [0, 1, 3, 4, 6, 7]\n"
     ]
    },
    {
     "ename": "NameError",
     "evalue": "name 'symmetry_squares' is not defined",
     "output_type": "error",
     "traceback": [
      "\u001b[0;31m---------------------------------------------------------------------------\u001b[0m",
      "\u001b[0;31mNameError\u001b[0m                                 Traceback (most recent call last)",
      "Cell \u001b[0;32mIn[29], line 56\u001b[0m\n\u001b[1;32m     46\u001b[0m         anti_diagonal \u001b[38;5;241m=\u001b[39m np\u001b[38;5;241m.\u001b[39mall(np\u001b[38;5;241m.\u001b[39mfliplr(TTT) \u001b[38;5;241m==\u001b[39m np\u001b[38;5;241m.\u001b[39mtranspose(np\u001b[38;5;241m.\u001b[39mfliplr(TTT)))\n\u001b[1;32m     49\u001b[0m         \u001b[38;5;66;03m#return possible_moves\u001b[39;00m\n\u001b[1;32m     50\u001b[0m \n\u001b[1;32m     51\u001b[0m     \u001b[38;5;66;03m#\u001b[39;00m\n\u001b[1;32m     52\u001b[0m \n\u001b[1;32m     53\u001b[0m         \n\u001b[1;32m     54\u001b[0m     \u001b[38;5;66;03m#lines = np.vstack([TTT, np.transpose(TTT), np.diag(TTT), np.diag(np.fliplr(TTT))])\u001b[39;00m\n\u001b[0;32m---> 56\u001b[0m \u001b[43mSYMMETRIES_tic_tac_toe\u001b[49m\u001b[43m(\u001b[49m\u001b[43m)\u001b[49m\n",
      "Cell \u001b[0;32mIn[29], line 37\u001b[0m, in \u001b[0;36mSYMMETRIES_tic_tac_toe\u001b[0;34m(n)\u001b[0m\n\u001b[1;32m     33\u001b[0m     \u001b[38;5;28mprint\u001b[39m(horizontal, vertical)\n\u001b[1;32m     35\u001b[0m     \u001b[38;5;28;01mreturn\u001b[39;00m symmetry_squares\n\u001b[0;32m---> 37\u001b[0m \u001b[38;5;28mprint\u001b[39m(\u001b[43m_symmetry_squares\u001b[49m\u001b[43m(\u001b[49m\u001b[43mn\u001b[49m\u001b[43m)\u001b[49m)\n\u001b[1;32m     39\u001b[0m \u001b[38;5;28;01mdef\u001b[39;00m \u001b[38;5;21msquare_symmetry\u001b[39m(n, TTT, symmetry_squares):\n\u001b[1;32m     40\u001b[0m     middle_line \u001b[38;5;241m=\u001b[39m n\u001b[38;5;241m/\u001b[39m\u001b[38;5;241m/\u001b[39m\u001b[38;5;241m2\u001b[39m \u001b[38;5;241m+\u001b[39m n\u001b[38;5;241m%\u001b[39m\u001b[38;5;241m2\u001b[39m\n",
      "Cell \u001b[0;32mIn[29], line 35\u001b[0m, in \u001b[0;36mSYMMETRIES_tic_tac_toe.<locals>._symmetry_squares\u001b[0;34m(n)\u001b[0m\n\u001b[1;32m     30\u001b[0m \u001b[38;5;66;03m# [0 1 2; 4 5; 8] diagonal ,,, \u001b[39;00m\n\u001b[1;32m     31\u001b[0m \u001b[38;5;66;03m# [0 1 2; 3 4; 6] anti_diagonal ,,, \u001b[39;00m\n\u001b[1;32m     33\u001b[0m \u001b[38;5;28mprint\u001b[39m(horizontal, vertical)\n\u001b[0;32m---> 35\u001b[0m \u001b[38;5;28;01mreturn\u001b[39;00m \u001b[43msymmetry_squares\u001b[49m\n",
      "\u001b[0;31mNameError\u001b[0m: name 'symmetry_squares' is not defined"
     ]
    }
   ],
   "source": [
    "import numpy as np\n",
    "\n",
    "def SYMMETRIES_tic_tac_toe(n = 3):\n",
    "    \"\"\"\n",
    "    simetrias bla bla\n",
    "    n = 3 -> 3 by 3 square\n",
    "    \"\"\"\n",
    "\n",
    "    initial_moves = np.zeros(n**2)\n",
    "    TTT = np.zeros((n,n))\n",
    "    TTT = np.array([[1,1,1],\n",
    "                    [1,2,1],\n",
    "                    [1,1,1]])\n",
    "    \n",
    "    def _symmetry_squares(n):\n",
    "        \"\"\" ex.: if there's vertical symmetry which squares are valid moves \"\"\"\n",
    "        middle_line = n//2 + n%2\n",
    "\n",
    "        vertical = []\n",
    "        for row in range(n):\n",
    "            for i in range(middle_line):\n",
    "                vertical.append(row * n + i)\n",
    "\n",
    "        horizontal = []\n",
    "        for row in range(middle_line):\n",
    "            for i in range(n):\n",
    "                horizontal.append(row * n + i)\n",
    "\n",
    "\n",
    "        # [0 1 2; 4 5; 8] diagonal ,,, \n",
    "        # [0 1 2; 3 4; 6] anti_diagonal ,,, \n",
    "\n",
    "        print(horizontal, vertical)\n",
    "\n",
    "        return symmetry_squares\n",
    "\n",
    "    print(_symmetry_squares(n))\n",
    "\n",
    "    def square_symmetry(n, TTT, symmetry_squares):\n",
    "        middle_line = n//2 + n%2\n",
    "\n",
    "        # its a square, there are 4 axes of symmetry\n",
    "        vertical = np.all([np.transpose(TTT)[i] == np.transpose(TTT)[-i-1] for i in range(middle_line)])\n",
    "        horizontal = np.all([TTT[i] == TTT[-i-1] for i in range(middle_line)])\n",
    "        diagonal = np.all(TTT == np.transpose(TTT))\n",
    "        anti_diagonal = np.all(np.fliplr(TTT) == np.transpose(np.fliplr(TTT)))\n",
    "\n",
    "\n",
    "        #return possible_moves\n",
    "\n",
    "    #\n",
    "\n",
    "        \n",
    "    #lines = np.vstack([TTT, np.transpose(TTT), np.diag(TTT), np.diag(np.fliplr(TTT))])\n",
    "\n",
    "SYMMETRIES_tic_tac_toe()"
   ]
  },
  {
   "cell_type": "code",
   "execution_count": null,
   "metadata": {},
   "outputs": [],
   "source": []
  }
 ],
 "metadata": {
  "kernelspec": {
   "display_name": "Python 3",
   "language": "python",
   "name": "python3"
  },
  "language_info": {
   "codemirror_mode": {
    "name": "ipython",
    "version": 3
   },
   "file_extension": ".py",
   "mimetype": "text/x-python",
   "name": "python",
   "nbconvert_exporter": "python",
   "pygments_lexer": "ipython3",
   "version": "3.11.6"
  }
 },
 "nbformat": 4,
 "nbformat_minor": 2
}
