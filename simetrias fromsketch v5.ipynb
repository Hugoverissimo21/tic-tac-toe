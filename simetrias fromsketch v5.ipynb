{
 "cells": [
  {
   "cell_type": "markdown",
   "metadata": {},
   "source": [
    "## remover jogos duplicados"
   ]
  },
  {
   "cell_type": "markdown",
   "metadata": {},
   "source": [
    "fazer estatisticas de quantos começam em cada sitio ? idk, tenho coisas q posso ler, o da wikipedia é bastante bom\n",
    "\n",
    "fazer rascunho do README\n",
    "\n",
    "ttt how many final games using only X and O\n",
    "\n",
    "ttt grafico tp inicitial move e dps sobe ou desce consoante jogada e dps diz se % win sobe ou desce, tem de ser tp 3d ig com cor tp\n",
    "\n",
    "COMMENT FUNCTIONS + INITIAL “ “ ” “ “ ” GET THEM BETTER AND SAY THERE WICH IMPORT WE USING\n",
    "\n",
    "tic tac toe - estatistica de true games\n",
    "\n",
    "use pandas somehow\n",
    "\n",
    "adicionar aos def bla(, save_file = True)"
   ]
  },
  {
   "cell_type": "code",
   "execution_count": 3,
   "metadata": {},
   "outputs": [],
   "source": [
    "# http://www.se16.info/hgb/tictactoe.htm\n",
    "# https://web.archive.org/web/20130628112339/http://www.mathrec.org/old/2002jan/solutions.html\n",
    "#   Schaefer, Steve (2002). \"MathRec Solutions (Tic-Tac-Toe)\". Mathematical Recreations. Archived from the original on 28 June 2013. Retrieved 18 September 2015.\n",
    "#len(true_games), len(true_move1), len(true_move2), len(true_move3), len(true_move4)\n",
    "#31896\n",
    "\n",
    "# https://colab.research.google.com/drive/15RMqRAG-0ASZYvZYkpNUm808VkCPtGdb?usp=sharing\n",
    "# checks how many games are but freeze: like\n",
    "# only X and O, like in the 9th move will check only how can place X and O not the order to get there\n",
    "# they are 764 + 1 (empty board)"
   ]
  },
  {
   "cell_type": "code",
   "execution_count": 4,
   "metadata": {},
   "outputs": [
    {
     "data": {
      "text/plain": [
       "('attachment(3) saved', 31896)"
      ]
     },
     "execution_count": 4,
     "metadata": {},
     "output_type": "execute_result"
    }
   ],
   "source": [
    "import numpy as np\n",
    "\n",
    "def SYMMETRIES_tic_tac_toe(n = 3, savefile = True):\n",
    "    \"\"\"\n",
    "    simetrias bla bla\n",
    "    n = 3 -> 3 by 3 square\n",
    "    \"\"\"\n",
    "\n",
    "    ############################################################################\n",
    "    def _symmetry_squares(n = n):\n",
    "        \"\"\" ex.: if there's vertical symmetry which squares are valid moves \"\"\"\n",
    "        middle_line = n//2 + n%2\n",
    "\n",
    "        vertical = []\n",
    "        for row in range(n):\n",
    "            for col in range(middle_line):\n",
    "                vertical.append(row * n + col)\n",
    "\n",
    "        horizontal = []\n",
    "        for row in range(middle_line):\n",
    "            for col in range(n):\n",
    "                horizontal.append(row * n + col)\n",
    "        \n",
    "        diagonal = []\n",
    "        anti_diagonal = [] \n",
    "        for row in range(n):\n",
    "            for col in range(n):\n",
    "                if row <= col:\n",
    "                    diagonal.append(row * n + col)\n",
    "                \n",
    "                if col <= (n-1) - row:\n",
    "                    anti_diagonal.append(row * n + col)\n",
    "\n",
    "        return vertical, horizontal, diagonal, anti_diagonal\n",
    "    ############################################################################\n",
    "\n",
    "\n",
    "    ############################################################################\n",
    "    symmetry_squares = _symmetry_squares(n)\n",
    "    \n",
    "    def _valid_moves(TTT, n = n, symmetry_squares = symmetry_squares):\n",
    "        middle_line = n//2 + n%2\n",
    "\n",
    "        # define all 4 axes of symmetry and verify them (True or False)\n",
    "        vertical = np.all([np.transpose(TTT)[i] == np.transpose(TTT)[-i-1] for i in range(middle_line)])\n",
    "        horizontal = np.all([TTT[i] == TTT[-i-1] for i in range(middle_line)])\n",
    "        diagonal = np.all(TTT == np.transpose(TTT))\n",
    "        anti_diagonal = np.all(np.fliplr(TTT) == np.transpose(np.fliplr(TTT)))\n",
    "        axes_of_symmetry = vertical, horizontal, diagonal, anti_diagonal\n",
    "\n",
    "        # which are the valid moves\n",
    "        all_possible_moves = set(range(n*n))\n",
    "        invalid_moves = []\n",
    "        for i in range(4):\n",
    "            if axes_of_symmetry[i]:\n",
    "                invalid_moves_i = all_possible_moves - set(symmetry_squares[i])\n",
    "                invalid_moves += invalid_moves_i\n",
    "        valid_moves = all_possible_moves - set(invalid_moves)\n",
    "\n",
    "        return list(valid_moves)\n",
    "    ############################################################################\n",
    "\n",
    "\n",
    "    ############################################################################\n",
    "    def _its_a_win(TTT, n = n):\n",
    "        lines = np.vstack([TTT, np.transpose(TTT), np.diag(TTT), np.diag(np.fliplr(TTT))])\n",
    "        # if 0 -> 0 ; if impar -> 1 ; if par -> -1   \n",
    "        X_vs_O = np.where(lines == 0, 0, np.where(lines % 2 == 1, 1, -1))\n",
    "        sums = np.sum(X_vs_O, axis=1)\n",
    "        return n in np.abs(sums)\n",
    "    ############################################################################\n",
    "    \n",
    "    TTT_moves = np.zeros(n**2)\n",
    "    TTT_symmetries = []\n",
    "\n",
    "    ongoing_games1 = [TTT_moves]\n",
    "    move = 1\n",
    "    while move < n**2:\n",
    "        ongoing_games2 = []\n",
    "        for game in ongoing_games1:\n",
    "            # verify possible moves\n",
    "            valid_moves = _valid_moves(game.reshape(n,n))\n",
    "            # play them\n",
    "            for valid_move in valid_moves:\n",
    "                if game[valid_move] != 0:\n",
    "                    pass\n",
    "                else:\n",
    "                    game[valid_move] = move\n",
    "                    # verify if its a winning move\n",
    "                    if _its_a_win(game.reshape(n,n)):\n",
    "                        TTT_symmetries.append(game.copy())\n",
    "                    else:\n",
    "                        ongoing_games2.append(game.copy())\n",
    "                        \n",
    "                    game[valid_move] = 0\n",
    "        # next move\n",
    "        move += 1\n",
    "        ongoing_games1 = ongoing_games2\n",
    "        \n",
    "    # last move\n",
    "    move = n**2\n",
    "    for game in ongoing_games1:\n",
    "        # was move (n**2 - 1) a winning move ?\n",
    "        if _its_a_win(game.reshape(n,n)):\n",
    "            TTT_symmetries.append(game.copy())\n",
    "        else:\n",
    "            TTT_symmetries.append(np.where(game == 0, n**2, game).copy())\n",
    "\n",
    "    if savefile:\n",
    "        np.savetxt(\"attachment(3)_symmetriestictactoe.csv\", TTT_symmetries, delimiter=\",\", fmt=\"%d\")\n",
    "        return \"attachment(3) saved\", len(TTT_symmetries)\n",
    "    else:\n",
    "        return TTT_symmetries, len(TTT_symmetries)\n",
    "\n",
    "\n",
    "SYMMETRIES_tic_tac_toe()"
   ]
  },
  {
   "cell_type": "code",
   "execution_count": 5,
   "metadata": {},
   "outputs": [
    {
     "name": "stdout",
     "output_type": "stream",
     "text": [
      "1 OK\n",
      "2 OK\n",
      "3 OK\n"
     ]
    },
    {
     "data": {
      "text/plain": [
       "[1, 3, 31896]"
      ]
     },
     "execution_count": 5,
     "metadata": {},
     "output_type": "execute_result"
    }
   ],
   "source": [
    "lista = []\n",
    "for i in range(1,4):\n",
    "    lista.append(SYMMETRIES_tic_tac_toe(n = i, savefile=False)[1])\n",
    "    print(str(i) + \" OK\")\n",
    "lista"
   ]
  },
  {
   "cell_type": "code",
   "execution_count": null,
   "metadata": {},
   "outputs": [],
   "source": []
  }
 ],
 "metadata": {
  "kernelspec": {
   "display_name": "Python 3",
   "language": "python",
   "name": "python3"
  },
  "language_info": {
   "codemirror_mode": {
    "name": "ipython",
    "version": 3
   },
   "file_extension": ".py",
   "mimetype": "text/x-python",
   "name": "python",
   "nbconvert_exporter": "python",
   "pygments_lexer": "ipython3",
   "version": "3.11.6"
  }
 },
 "nbformat": 4,
 "nbformat_minor": 2
}
