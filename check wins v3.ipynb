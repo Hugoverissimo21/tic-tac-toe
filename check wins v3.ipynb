{
 "cells": [
  {
   "cell_type": "code",
   "execution_count": 29,
   "metadata": {},
   "outputs": [],
   "source": [
    "#import pandas as pd\n",
    "import numpy as np"
   ]
  },
  {
   "cell_type": "code",
   "execution_count": 30,
   "metadata": {},
   "outputs": [],
   "source": [
    "#pd.read_csv(\"attachment(1)_alltictactoe.csv\", header = None)"
   ]
  },
  {
   "cell_type": "code",
   "execution_count": 31,
   "metadata": {},
   "outputs": [],
   "source": [
    "def TRUE_tic_tac_toe():\n",
    "    \"\"\"\n",
    "    remove all the repated games which have wins and bla bla bla\n",
    "    \"\"\"\n",
    "    def is_there_a_win(ttt):\n",
    "        # convert 1D array into 2D array (3 by 3)\n",
    "        TTT = ttt.reshape(3,3)\n",
    "\n",
    "        # lines to verify for wins (lines, columns, diagonals)\n",
    "        lines = np.vstack([TTT, np.transpose(TTT), np.diag(TTT), np.diag(np.fliplr(TTT))])\n",
    "        \n",
    "        # check sums to see if there is a winner\n",
    "        X_vs_O = np.where(lines % 2 == 1, 1, -1)\n",
    "        sums = np.sum(X_vs_O, axis=1)\n",
    "\n",
    "        # someone won\n",
    "        if 3 in np.abs(sums):\n",
    "            # find the winning move\n",
    "            last_move = np.max(lines, axis=1)\n",
    "            last_move[np.abs(sums) != 3] = 10\n",
    "            return True, min(last_move)\n",
    "\n",
    "        # draw game\n",
    "        else:\n",
    "            return False, 0\n",
    "        \n",
    "\n",
    "    with open(\"attachment(1)_alltictactoe.csv\", \"r\") as csvfile:\n",
    "        rows = [line.strip().split(',') for line in csvfile]\n",
    "\n",
    "    new_games = []\n",
    "    for row in rows:\n",
    "        ttt = np.array(row).astype(float)\n",
    "        win = is_there_a_win(ttt)\n",
    "        if win[0]:\n",
    "            ttt[ttt > win[1]] = 0\n",
    "            new_games.append(ttt)\n",
    "        else:\n",
    "            new_games.append(ttt)\n",
    "\n",
    "    processed_games = np.vstack(new_games)\n",
    "    unique_games = np.unique(processed_games, axis=0)\n",
    "\n",
    "    np.savetxt(\"attachment(2)_truetictactoe.csv\", unique_games, delimiter=\",\", fmt=\"%d\")\n",
    "\n",
    "    return \"File saved.\", len(unique_games)\n"
   ]
  },
  {
   "cell_type": "code",
   "execution_count": 32,
   "metadata": {},
   "outputs": [
    {
     "data": {
      "text/plain": [
       "('File saved.', 255168)"
      ]
     },
     "execution_count": 32,
     "metadata": {},
     "output_type": "execute_result"
    }
   ],
   "source": [
    "np.set_printoptions(threshold=np.inf)\n",
    "TRUE_tic_tac_toe()"
   ]
  },
  {
   "cell_type": "code",
   "execution_count": null,
   "metadata": {},
   "outputs": [],
   "source": []
  }
 ],
 "metadata": {
  "kernelspec": {
   "display_name": "Python 3",
   "language": "python",
   "name": "python3"
  },
  "language_info": {
   "codemirror_mode": {
    "name": "ipython",
    "version": 3
   },
   "file_extension": ".py",
   "mimetype": "text/x-python",
   "name": "python",
   "nbconvert_exporter": "python",
   "pygments_lexer": "ipython3",
   "version": "3.11.6"
  }
 },
 "nbformat": 4,
 "nbformat_minor": 2
}
