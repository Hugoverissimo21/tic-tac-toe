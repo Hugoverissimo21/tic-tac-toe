{
 "cells": [
  {
   "cell_type": "markdown",
   "metadata": {},
   "source": [
    "### extra"
   ]
  },
  {
   "cell_type": "code",
   "execution_count": 4,
   "metadata": {},
   "outputs": [],
   "source": [
    "#np.set_printoptions(threshold=np.inf) #check full array lenght\n",
    "\n",
    "#pd.read_csv(\"attachment(1)_alltictactoe.csv\", header = None) #check csv structure or preview\n",
    "\n",
    "#TTT2 = np.array([[1, 3, 5],[2, 3, np.nan],[np.nan, np.nan, np.nan]]) #possible TTT format"
   ]
  },
  {
   "cell_type": "markdown",
   "metadata": {},
   "source": [
    "## all 9! games"
   ]
  },
  {
   "cell_type": "code",
   "execution_count": 5,
   "metadata": {},
   "outputs": [
    {
     "data": {
      "text/plain": [
       "('attachment(1) saved', 362880)"
      ]
     },
     "execution_count": 5,
     "metadata": {},
     "output_type": "execute_result"
    }
   ],
   "source": [
    "import numpy as np\n",
    "\n",
    "def ALL_tic_tac_toe():\n",
    "    \"\"\"\n",
    "    generate all tic-tac-toe games but,\n",
    "        doesn't care who starts (X or O)\n",
    "        doesn't care if theres a win, just fills all the nine squares\n",
    "        impar numbers stand for the starter moves (X or O) and par numbers stand for the other player\n",
    "        it's justs all the 9! games\n",
    "    \"\"\"\n",
    "    move = 0\n",
    "    ith_move = np.array([[0,0,0 , 0,0,0 , 0,0,0], [0,0,0 , 0,0,0 , 0,0,0]])\n",
    "    \n",
    "    move = 1\n",
    "    while move < 9:\n",
    "        all_games = np.array([0,0,0 , 0,0,0 , 0,0,0])\n",
    "        list_all_games = [all_games]\n",
    "        for j in range(1, len(ith_move)):\n",
    "            for i in range(9):\n",
    "                if ith_move[j][i] != 0:\n",
    "                    pass\n",
    "                else:\n",
    "                    ith_move[j][i] = move\n",
    "                    list_all_games.append(ith_move[j].copy())\n",
    "                    ith_move[j][i] = 0\n",
    "        ith_move = np.vstack(list_all_games)\n",
    "        #print(\"Move \" + str(move) + \" - OK\")\n",
    "        move += 1    \n",
    "\n",
    "    move = 9\n",
    "    last_move = np.where(ith_move[1:] == 0, 9, ith_move[1:])\n",
    "    #print(\"Move \" + str(move) + \" - OK\")\n",
    "\n",
    "    np.savetxt(\"attachment(1)_alltictactoe.csv\", last_move, delimiter=\",\", fmt=\"%d\")\n",
    "\n",
    "    return \"attachment(1) saved\", len(last_move)\n",
    "\n",
    "ALL_tic_tac_toe()"
   ]
  },
  {
   "cell_type": "markdown",
   "metadata": {},
   "source": [
    "## true games - checking for wins"
   ]
  },
  {
   "cell_type": "code",
   "execution_count": 6,
   "metadata": {},
   "outputs": [
    {
     "data": {
      "text/plain": [
       "('attachment(2) saved', 255168)"
      ]
     },
     "execution_count": 6,
     "metadata": {},
     "output_type": "execute_result"
    }
   ],
   "source": [
    "import numpy as np\n",
    "\n",
    "def TRUE_tic_tac_toe():\n",
    "    \"\"\"\n",
    "    remove all the repated games which have wins and bla bla bla\n",
    "    \"\"\"\n",
    "    def is_there_a_win(ttt):\n",
    "        # convert 1D array into 2D array (3 by 3)\n",
    "        TTT = ttt.reshape(3,3)\n",
    "\n",
    "        # lines to verify for wins (lines, columns, diagonals)\n",
    "        lines = np.vstack([TTT, np.transpose(TTT), np.diag(TTT), np.diag(np.fliplr(TTT))])\n",
    "        \n",
    "        # check sums to see if there is a winner\n",
    "        X_vs_O = np.where(lines % 2 == 1, 1, -1)\n",
    "        sums = np.sum(X_vs_O, axis=1)\n",
    "\n",
    "        # someone won\n",
    "        if 3 in np.abs(sums):\n",
    "            # find the winning move\n",
    "            last_move = np.max(lines, axis=1)\n",
    "            last_move[np.abs(sums) != 3] = 10\n",
    "            return True, min(last_move)\n",
    "\n",
    "        # draw game\n",
    "        else:\n",
    "            return False, 0\n",
    "        \n",
    "\n",
    "    with open(\"attachment(1)_alltictactoe.csv\", \"r\") as csvfile:\n",
    "        rows = [line.strip().split(',') for line in csvfile]\n",
    "\n",
    "    new_games = []\n",
    "    for row in rows:\n",
    "        ttt = np.array(row).astype(float)\n",
    "        win = is_there_a_win(ttt)\n",
    "        if win[0]:\n",
    "            ttt[ttt > win[1]] = 0\n",
    "            new_games.append(ttt)\n",
    "        else:\n",
    "            new_games.append(ttt)\n",
    "\n",
    "    processed_games = np.vstack(new_games)\n",
    "    unique_games = np.unique(processed_games, axis=0)\n",
    "\n",
    "    np.savetxt(\"attachment(2)_truetictactoe.csv\", unique_games, delimiter=\",\", fmt=\"%d\")\n",
    "\n",
    "    return \"attachment(2) saved\", len(unique_games)\n",
    "\n",
    "TRUE_tic_tac_toe()"
   ]
  },
  {
   "cell_type": "code",
   "execution_count": null,
   "metadata": {},
   "outputs": [],
   "source": []
  },
  {
   "cell_type": "markdown",
   "metadata": {},
   "source": [
    "# symmertryes"
   ]
  },
  {
   "cell_type": "code",
   "execution_count": 7,
   "metadata": {},
   "outputs": [
    {
     "data": {
      "text/plain": [
       "('attachment(3) saved', 31896)"
      ]
     },
     "execution_count": 7,
     "metadata": {},
     "output_type": "execute_result"
    }
   ],
   "source": [
    "import numpy as np\n",
    "\n",
    "def SYMMETRIES_tic_tac_toe(n = 3, savefile = True):\n",
    "    \"\"\"\n",
    "    simetrias bla bla\n",
    "    n = 3 -> 3 by 3 square\n",
    "    \"\"\"\n",
    "\n",
    "    ############################################################################\n",
    "    def _symmetry_squares(n = n):\n",
    "        \"\"\" ex.: if there's vertical symmetry which squares are valid moves \"\"\"\n",
    "        middle_line = n//2 + n%2\n",
    "\n",
    "        vertical = []\n",
    "        for row in range(n):\n",
    "            for col in range(middle_line):\n",
    "                vertical.append(row * n + col)\n",
    "\n",
    "        horizontal = []\n",
    "        for row in range(middle_line):\n",
    "            for col in range(n):\n",
    "                horizontal.append(row * n + col)\n",
    "        \n",
    "        diagonal = []\n",
    "        anti_diagonal = [] \n",
    "        for row in range(n):\n",
    "            for col in range(n):\n",
    "                if row <= col:\n",
    "                    diagonal.append(row * n + col)\n",
    "                \n",
    "                if col <= (n-1) - row:\n",
    "                    anti_diagonal.append(row * n + col)\n",
    "\n",
    "        return vertical, horizontal, diagonal, anti_diagonal\n",
    "    ############################################################################\n",
    "\n",
    "\n",
    "    ############################################################################\n",
    "    symmetry_squares = _symmetry_squares(n)\n",
    "    \n",
    "    def _valid_moves(TTT, n = n, symmetry_squares = symmetry_squares):\n",
    "        middle_line = n//2 + n%2\n",
    "\n",
    "        # define all 4 axes of symmetry and verify them (True or False)\n",
    "        vertical = np.all([np.transpose(TTT)[i] == np.transpose(TTT)[-i-1] for i in range(middle_line)])\n",
    "        horizontal = np.all([TTT[i] == TTT[-i-1] for i in range(middle_line)])\n",
    "        diagonal = np.all(TTT == np.transpose(TTT))\n",
    "        anti_diagonal = np.all(np.fliplr(TTT) == np.transpose(np.fliplr(TTT)))\n",
    "        axes_of_symmetry = vertical, horizontal, diagonal, anti_diagonal\n",
    "\n",
    "        # which are the valid moves\n",
    "        all_possible_moves = set(range(n*n))\n",
    "        invalid_moves = []\n",
    "        for i in range(4):\n",
    "            if axes_of_symmetry[i]:\n",
    "                invalid_moves_i = all_possible_moves - set(symmetry_squares[i])\n",
    "                invalid_moves += invalid_moves_i\n",
    "        valid_moves = all_possible_moves - set(invalid_moves)\n",
    "\n",
    "        return list(valid_moves)\n",
    "    ############################################################################\n",
    "\n",
    "\n",
    "    ############################################################################\n",
    "    def _its_a_win(TTT, n = n):\n",
    "        lines = np.vstack([TTT, np.transpose(TTT), np.diag(TTT), np.diag(np.fliplr(TTT))])\n",
    "        # if 0 -> 0 ; if impar -> 1 ; if par -> -1   \n",
    "        X_vs_O = np.where(lines == 0, 0, np.where(lines % 2 == 1, 1, -1))\n",
    "        sums = np.sum(X_vs_O, axis=1)\n",
    "        return n in np.abs(sums)\n",
    "    ############################################################################\n",
    "    \n",
    "    TTT_moves = np.zeros(n**2)\n",
    "    TTT_symmetries = []\n",
    "\n",
    "    ongoing_games1 = [TTT_moves]\n",
    "    move = 1\n",
    "    while move < n**2:\n",
    "        ongoing_games2 = []\n",
    "        for game in ongoing_games1:\n",
    "            # verify possible moves\n",
    "            valid_moves = _valid_moves(game.reshape(n,n))\n",
    "            # play them\n",
    "            for valid_move in valid_moves:\n",
    "                if game[valid_move] != 0:\n",
    "                    pass\n",
    "                else:\n",
    "                    game[valid_move] = move\n",
    "                    # verify if its a winning move\n",
    "                    if _its_a_win(game.reshape(n,n)):\n",
    "                        TTT_symmetries.append(game.copy())\n",
    "                    else:\n",
    "                        ongoing_games2.append(game.copy())\n",
    "                        \n",
    "                    game[valid_move] = 0\n",
    "        # next move\n",
    "        move += 1\n",
    "        ongoing_games1 = ongoing_games2\n",
    "        \n",
    "    # last move\n",
    "    move = n**2\n",
    "    for game in ongoing_games1:\n",
    "        # was move (n**2 - 1) a winning move ?\n",
    "        if _its_a_win(game.reshape(n,n)):\n",
    "            TTT_symmetries.append(game.copy())\n",
    "        else:\n",
    "            TTT_symmetries.append(np.where(game == 0, n**2, game).copy())\n",
    "\n",
    "    if savefile:\n",
    "        np.savetxt(\"attachment(3)_symmetriestictactoe.csv\", TTT_symmetries, delimiter=\",\", fmt=\"%d\")\n",
    "        return \"attachment(3) saved\", len(TTT_symmetries)\n",
    "    else:\n",
    "        return TTT_symmetries, len(TTT_symmetries)\n",
    "\n",
    "\n",
    "SYMMETRIES_tic_tac_toe()"
   ]
  },
  {
   "cell_type": "code",
   "execution_count": null,
   "metadata": {},
   "outputs": [],
   "source": []
  }
 ],
 "metadata": {
  "kernelspec": {
   "display_name": "Python 3",
   "language": "python",
   "name": "python3"
  },
  "language_info": {
   "codemirror_mode": {
    "name": "ipython",
    "version": 3
   },
   "file_extension": ".py",
   "mimetype": "text/x-python",
   "name": "python",
   "nbconvert_exporter": "python",
   "pygments_lexer": "ipython3",
   "version": "3.11.6"
  }
 },
 "nbformat": 4,
 "nbformat_minor": 2
}
