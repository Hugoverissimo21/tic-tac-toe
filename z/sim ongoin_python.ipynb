{
 "cells": [
  {
   "cell_type": "markdown",
   "metadata": {},
   "source": [
    "fazer estatisticas de quantos começam em cada sitio ? idk, tenho coisas q posso ler, o da wikipedia é bastante bom\n",
    "\n",
    "fazer rascunho do README\n",
    "\n",
    "ttt how many final games using only X and O AND how many unique state of games like only X or O in move 1,2,3...9 (764 + 1 ?)\n",
    "\n",
    "ttt grafico tp inicitial move e dps sobe ou desce consoante jogada e dps diz se % win sobe ou desce, tem de ser tp 3d ig com cor tp\n",
    "\n",
    "COMMENT FUNCTIONS + INITIAL “ “ ” “ “ ” GET THEM BETTER AND SAY THERE WICH IMPORT WE USING\n",
    "\n",
    "tic tac toe - estatistica de true games\n",
    "\n",
    "use pandas somehow\n",
    "\n",
    "ttt .value_count() para ver qnts em cada quadrado ?\n",
    "\n",
    "ttt “spotify_sample = spotify_population.sample(n=1000)” to get random lines\n",
    "\n",
    "ttt loop de simetrias print using {} la no meio a dizer tp n por n square ...\n",
    "\n",
    "tic tac toe use seaborn for graphs\n",
    "\n",
    "tic tac toe - pandas, use aggfunc or .asc ou qq coisa assim q aplica uma funcao à coluna toda ou assim para meter os X e os O"
   ]
  },
  {
   "cell_type": "code",
   "execution_count": 1,
   "metadata": {},
   "outputs": [],
   "source": [
    "# http://www.se16.info/hgb/tictactoe.htm\n",
    "# https://web.archive.org/web/20130628112339/http://www.mathrec.org/old/2002jan/solutions.html\n",
    "#   Schaefer, Steve (2002). \"MathRec Solutions (Tic-Tac-Toe)\". Mathematical Recreations. Archived from the original on 28 June 2013. Retrieved 18 September 2015."
   ]
  },
  {
   "cell_type": "code",
   "execution_count": 3,
   "metadata": {},
   "outputs": [
    {
     "data": {
      "text/plain": [
       "'\\nlista = []\\nfor i in range(1, 4):\\n    lista.append(SYMMETRIES_tic_tac_toe(n = i, savefile=False)[1])\\n    print(str(i) + \" OK\")\\nlista\\n'"
      ]
     },
     "execution_count": 3,
     "metadata": {},
     "output_type": "execute_result"
    }
   ],
   "source": [
    "# ver como cresce aquilo das simetrias com n += 1\n",
    "\n",
    "\"\"\"\n",
    "lista = []\n",
    "for i in range(1, 4):\n",
    "    lista.append(SYMMETRIES_tic_tac_toe(n = i, savefile=False)[1])\n",
    "    print(str(i) + \" OK\")\n",
    "lista\n",
    "\"\"\""
   ]
  },
  {
   "cell_type": "code",
   "execution_count": 37,
   "metadata": {},
   "outputs": [
    {
     "data": {
      "text/html": [
       "<div>\n",
       "<style scoped>\n",
       "    .dataframe tbody tr th:only-of-type {\n",
       "        vertical-align: middle;\n",
       "    }\n",
       "\n",
       "    .dataframe tbody tr th {\n",
       "        vertical-align: top;\n",
       "    }\n",
       "\n",
       "    .dataframe thead th {\n",
       "        text-align: right;\n",
       "    }\n",
       "</style>\n",
       "<table border=\"1\" class=\"dataframe\">\n",
       "  <thead>\n",
       "    <tr style=\"text-align: right;\">\n",
       "      <th></th>\n",
       "      <th>0</th>\n",
       "      <th>1</th>\n",
       "      <th>2</th>\n",
       "      <th>3</th>\n",
       "      <th>4</th>\n",
       "      <th>5</th>\n",
       "      <th>6</th>\n",
       "      <th>7</th>\n",
       "      <th>8</th>\n",
       "    </tr>\n",
       "  </thead>\n",
       "  <tbody>\n",
       "    <tr>\n",
       "      <th>21125</th>\n",
       "      <td>1</td>\n",
       "      <td>5</td>\n",
       "      <td>3</td>\n",
       "      <td>6</td>\n",
       "      <td>4</td>\n",
       "      <td>2</td>\n",
       "      <td>9</td>\n",
       "      <td>8</td>\n",
       "      <td>7</td>\n",
       "    </tr>\n",
       "  </tbody>\n",
       "</table>\n",
       "</div>"
      ],
      "text/plain": [
       "       0  1  2  3  4  5  6  7  8\n",
       "21125  1  5  3  6  4  2  9  8  7"
      ]
     },
     "execution_count": 37,
     "metadata": {},
     "output_type": "execute_result"
    }
   ],
   "source": [
    "import pandas as pd\n",
    "x = pd.read_csv(\"attachment(1)_alltictactoe.csv\", header = None)\n",
    "pd.DataFrame(x.loc[21125, :]).T"
   ]
  },
  {
   "cell_type": "code",
   "execution_count": 39,
   "metadata": {},
   "outputs": [
    {
     "data": {
      "text/plain": [
       "0.2968253968253968"
      ]
     },
     "execution_count": 39,
     "metadata": {},
     "output_type": "execute_result"
    }
   ],
   "source": [
    "(362880 - 255168) / 362880"
   ]
  },
  {
   "cell_type": "code",
   "execution_count": null,
   "metadata": {},
   "outputs": [],
   "source": []
  }
 ],
 "metadata": {
  "kernelspec": {
   "display_name": "Python 3",
   "language": "python",
   "name": "python3"
  },
  "language_info": {
   "codemirror_mode": {
    "name": "ipython",
    "version": 3
   },
   "file_extension": ".py",
   "mimetype": "text/x-python",
   "name": "python",
   "nbconvert_exporter": "python",
   "pygments_lexer": "ipython3",
   "version": "3.11.6"
  }
 },
 "nbformat": 4,
 "nbformat_minor": 2
}
