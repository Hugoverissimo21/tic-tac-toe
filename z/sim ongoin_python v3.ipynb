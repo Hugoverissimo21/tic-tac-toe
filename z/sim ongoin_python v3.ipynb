{
 "cells": [
  {
   "cell_type": "markdown",
   "metadata": {},
   "source": [
    "fazer rascunho do README\n",
    "\n",
    "ttt grafico tp inicitial move e dps sobe ou desce consoante jogada e dps diz se % win sobe ou desce, tem de ser tp 3d ig com cor tp\n",
    "\n",
    "tic tac toe - pandas, use aggfunc or .asc ou qq coisa assim q aplica uma funcao à coluna toda ou assim para meter os X e os O"
   ]
  },
  {
   "cell_type": "code",
   "execution_count": 1,
   "metadata": {},
   "outputs": [],
   "source": [
    "# http://www.se16.info/hgb/tictactoe.htm\n",
    "# https://web.archive.org/web/20130628112339/http://www.mathrec.org/old/2002jan/solutions.html\n",
    "#   Schaefer, Steve (2002). \"MathRec Solutions (Tic-Tac-Toe)\". Mathematical Recreations. Archived from the original on 28 June 2013. Retrieved 18 September 2015."
   ]
  }
 ],
 "metadata": {
  "kernelspec": {
   "display_name": "Python 3",
   "language": "python",
   "name": "python3"
  },
  "language_info": {
   "codemirror_mode": {
    "name": "ipython",
    "version": 3
   },
   "file_extension": ".py",
   "mimetype": "text/x-python",
   "name": "python",
   "nbconvert_exporter": "python",
   "pygments_lexer": "ipython3",
   "version": "3.11.6"
  }
 },
 "nbformat": 4,
 "nbformat_minor": 2
}
