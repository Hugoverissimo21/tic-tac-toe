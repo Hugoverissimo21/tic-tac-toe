{
 "cells": [
  {
   "cell_type": "code",
   "execution_count": null,
   "metadata": {},
   "outputs": [],
   "source": [
    "import numpy as np"
   ]
  },
  {
   "cell_type": "code",
   "execution_count": 1,
   "metadata": {},
   "outputs": [],
   "source": [
    "def ALL_tic_tac_toe(savefile_name, output = False):\n",
    "    \"\"\"\n",
    "    generate all tic-tac-toe games but,\n",
    "        doesn't care who starts (X or O)\n",
    "        doesn't care if theres a win, just fills all the nine squares\n",
    "        impar numbers stand for the first player\n",
    "        it's justs all the 9! games\n",
    "    \"\"\"\n",
    "    move = 0\n",
    "    ith_move = np.array([[0,0,0 , 0,0,0 , 0,0,0], [0,0,0 , 0,0,0 , 0,0,0]])\n",
    "    \n",
    "    move = 1\n",
    "    while move < 9:\n",
    "        all_games = np.array([0,0,0 , 0,0,0 , 0,0,0])\n",
    "        list_all_games = [all_games]\n",
    "        for j in range(1, len(ith_move)):\n",
    "            for i in range(9):\n",
    "                if ith_move[j][i] != 0:\n",
    "                    pass\n",
    "                else:\n",
    "                    ith_move[j][i] = move\n",
    "                    list_all_games.append(ith_move[j].copy())\n",
    "                    ith_move[j][i] = 0\n",
    "        ith_move = np.vstack(list_all_games)\n",
    "        #print(\"Move \" + str(move) + \" - OK\")\n",
    "        move += 1    \n",
    "\n",
    "    move = 9\n",
    "    last_move = np.where(ith_move[1:] == 0, 9, ith_move[1:])\n",
    "    #print(\"Move \" + str(move) + \" - OK\")\n",
    "\n",
    "    np.savetxt(savefile_name, last_move, delimiter=\",\", fmt=\"%d\")\n",
    "\n",
    "    if output:\n",
    "        return \"File saved.\", len(last_move)"
   ]
  },
  {
   "cell_type": "code",
   "execution_count": 2,
   "metadata": {},
   "outputs": [],
   "source": [
    "def TRUE_tic_tac_toe(savefile_name, output=False):\n",
    "    \"\"\"\n",
    "    remove the games from the set of 9! games where there are wins\n",
    "    \"\"\"\n",
    "    def is_there_a_win(ttt):\n",
    "        # convert 1D array into 2D array (3 by 3)\n",
    "        TTT = ttt.reshape(3,3)\n",
    "\n",
    "        # lines to verify for wins (lines, columns, diagonals)\n",
    "        lines = np.vstack([TTT, np.transpose(TTT), np.diag(TTT), np.diag(np.fliplr(TTT))])\n",
    "        \n",
    "        # check sums to see if there is a winner\n",
    "        X_vs_O = np.where(lines % 2 == 1, 1, -1)\n",
    "        sums = np.sum(X_vs_O, axis=1)\n",
    "\n",
    "        # someone won\n",
    "        if 3 in np.abs(sums):\n",
    "            # find the winning move\n",
    "            last_move = np.max(lines, axis=1)\n",
    "            last_move[np.abs(sums) != 3] = 10\n",
    "            return True, min(last_move)\n",
    "\n",
    "        # draw game\n",
    "        else:\n",
    "            return False, 0\n",
    "        \n",
    "\n",
    "    with open(\"attachment(1)_alltictactoe.csv\", \"r\") as csvfile:\n",
    "        rows = [line.strip().split(',') for line in csvfile]\n",
    "\n",
    "    new_games = []\n",
    "    for row in rows:\n",
    "        ttt = np.array(row).astype(float)\n",
    "        win = is_there_a_win(ttt)\n",
    "        if win[0]:\n",
    "            ttt[ttt > win[1]] = 0\n",
    "            new_games.append(ttt)\n",
    "        else:\n",
    "            new_games.append(ttt)\n",
    "\n",
    "    processed_games = np.vstack(new_games)\n",
    "    unique_games = np.unique(processed_games, axis=0)\n",
    "\n",
    "    np.savetxt(savefile_name, unique_games, delimiter=\",\", fmt=\"%d\")\n",
    "\n",
    "    if output:\n",
    "        return \"File saved.\", len(unique_games)"
   ]
  },
  {
   "cell_type": "code",
   "execution_count": null,
   "metadata": {},
   "outputs": [],
   "source": []
  }
 ],
 "metadata": {
  "kernelspec": {
   "display_name": "Python 3",
   "language": "python",
   "name": "python3"
  },
  "language_info": {
   "codemirror_mode": {
    "name": "ipython",
    "version": 3
   },
   "file_extension": ".py",
   "mimetype": "text/x-python",
   "name": "python",
   "nbconvert_exporter": "python",
   "pygments_lexer": "ipython3",
   "version": "3.11.6"
  }
 },
 "nbformat": 4,
 "nbformat_minor": 2
}
